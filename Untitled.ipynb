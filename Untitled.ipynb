{
 "cells": [
  {
   "cell_type": "code",
   "execution_count": 2,
   "metadata": {},
   "outputs": [
    {
     "ename": "SyntaxError",
     "evalue": "invalid syntax (<ipython-input-2-b9ca60b17352>, line 3)",
     "output_type": "error",
     "traceback": [
      "\u001b[0;36m  File \u001b[0;32m\"<ipython-input-2-b9ca60b17352>\"\u001b[0;36m, line \u001b[0;32m3\u001b[0m\n\u001b[0;31m    from ip\u001b[0m\n\u001b[0m           ^\u001b[0m\n\u001b[0;31mSyntaxError\u001b[0m\u001b[0;31m:\u001b[0m invalid syntax\n"
     ]
    }
   ],
   "source": [
    "from ipywidgets import interact, interactive, fixed, interact_manual\n",
    "import ipywidgets as widgets\n",
    "from ip\n",
    "import cv2\n",
    "\n",
    "%matplotlib notebook\n",
    "from matplotlib import pyplot as plt\n",
    "\n",
    "def find_face(img, scale_factor, min_neighbors):\n",
    "    face_cascade = cv2.CascadeClassifier('cascades/haarcascade_frontalface_alt.xml')\n",
    "    faces = face_cascade.detectMultiScale(img, scale_factor, min_neighbors)\n",
    "\n",
    "    for (x,y,w,h) in faces:\n",
    "        cv2.rectangle(img,(x,y),(x+w,y+h),(255,215,0),5)\n",
    "        roi_color = img[y:y+h, x:x+w]\n",
    "\n",
    "    return img\n",
    "    \n",
    "    \n",
    "def find_eyes(img, scale_factor, min_neighbors):\n",
    "    eyes_cascade = cv2.CascadeClassifier('cascades/haarcascade_eye.xml')\n",
    "    eyes = eyes_cascade.detectMultiScale(img, scale_factor, min_neighbors)\n",
    "\n",
    "    for (x,y,w,h) in eyes:\n",
    "        cv2.rectangle(img,(x,y),(x+w,y+h),(255,0,0),5)\n",
    "        roi_color = img[y:y+h, x:x+w]\n",
    "        \n",
    "    return img\n",
    "    \n",
    "def read_img(path):\n",
    "    img = cv2.imread(path)\n",
    "    return cv2.cvtColor(img, cv2.COLOR_RGB2BGR)\n",
    "\n",
    "def show_img(img):\n",
    "    plt.imshow(img)\n",
    "\n",
    "def process_img(x):\n",
    "    img = read_img('images/girls.jpg')\n",
    "    img = find_eyes(img, x, 3)\n",
    "    img = find_face(img, 1.05, 3)\n",
    "    show_img(img)\n",
    "\n",
    "    \n",
    "x = 1.2\n",
    "    \n",
    "def sliders():\n",
    "    slider = widgets.FloatSlider(\n",
    "        value=1.2,\n",
    "        min=1.01,\n",
    "        max=1.5,\n",
    "        step=0.01,\n",
    "        description='Test:',\n",
    "        disabled=False,\n",
    "        continuous_update=False,\n",
    "        orientation='horizontal',\n",
    "        readout=True,\n",
    "        readout_format='.2f',\n",
    "        )\n",
    "#     interact(process_img, x=(1.01,1.5,0.01));\n",
    "    display(slider)\n",
    "\n",
    "\n",
    "sliders()\n",
    "process_img(x)"
   ]
  },
  {
   "cell_type": "code",
   "execution_count": null,
   "metadata": {
    "scrolled": false
   },
   "outputs": [],
   "source": []
  },
  {
   "cell_type": "code",
   "execution_count": null,
   "metadata": {},
   "outputs": [],
   "source": []
  },
  {
   "cell_type": "code",
   "execution_count": null,
   "metadata": {},
   "outputs": [],
   "source": []
  },
  {
   "cell_type": "code",
   "execution_count": null,
   "metadata": {},
   "outputs": [],
   "source": []
  },
  {
   "cell_type": "code",
   "execution_count": null,
   "metadata": {},
   "outputs": [],
   "source": []
  },
  {
   "cell_type": "code",
   "execution_count": null,
   "metadata": {},
   "outputs": [],
   "source": []
  },
  {
   "cell_type": "code",
   "execution_count": null,
   "metadata": {},
   "outputs": [],
   "source": []
  },
  {
   "cell_type": "code",
   "execution_count": null,
   "metadata": {},
   "outputs": [],
   "source": []
  }
 ],
 "metadata": {
  "kernelspec": {
   "display_name": "Python 2",
   "language": "python",
   "name": "python2"
  },
  "language_info": {
   "codemirror_mode": {
    "name": "ipython",
    "version": 2
   },
   "file_extension": ".py",
   "mimetype": "text/x-python",
   "name": "python",
   "nbconvert_exporter": "python",
   "pygments_lexer": "ipython2",
   "version": "2.7.12"
  }
 },
 "nbformat": 4,
 "nbformat_minor": 2
}
