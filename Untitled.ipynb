{
 "cells": [
  {
   "cell_type": "code",
   "execution_count": 11,
   "metadata": {
    "scrolled": false
   },
   "outputs": [
    {
     "data": {
      "application/vnd.jupyter.widget-view+json": {
       "model_id": "b534b0de2ad54bb58a01073cea645893",
       "version_major": 2,
       "version_minor": 0
      },
      "text/html": [
       "<p>Failed to display Jupyter Widget of type <code>interactive</code>.</p>\n",
       "<p>\n",
       "  If you're reading this message in Jupyter Notebook or JupyterLab, it may mean\n",
       "  that the widgets JavaScript is still loading. If this message persists, it\n",
       "  likely means that the widgets JavaScript library is either not installed or\n",
       "  not enabled. See the <a href=\"https://ipywidgets.readthedocs.io/en/stable/user_install.html\">Jupyter\n",
       "  Widgets Documentation</a> for setup instructions.\n",
       "</p>\n",
       "<p>\n",
       "  If you're reading this message in another notebook frontend (for example, a static\n",
       "  rendering on GitHub or <a href=\"https://nbviewer.jupyter.org/\">NBViewer</a>),\n",
       "  it may mean that your frontend doesn't currently support widgets.\n",
       "</p>\n"
      ],
      "text/plain": [
       "interactive(children=(FloatSlider(value=1.2, continuous_update=False, description=u'Face Scale Factor:', max=1.5, min=1.01, step=0.01), IntSlider(value=2, continuous_update=False, description=u'Face Min Neighbors:', max=9, min=2), Output()), _dom_classes=('widget-interact',))"
      ]
     },
     "metadata": {},
     "output_type": "display_data"
    }
   ],
   "source": [
    "from ipywidgets import interact, interactive, fixed, interact_manual\n",
    "import ipywidgets as widgets\n",
    "import cv2\n",
    "\n",
    "%matplotlib inline\n",
    "from matplotlib import pyplot as plt\n",
    "import matplotlib\n",
    "\n",
    "def find_face(original_img, img, scale_factor, min_neighbors):\n",
    "    face_cascade = cv2.CascadeClassifier('cascades/haarcascade_frontalface_alt.xml')\n",
    "    faces = face_cascade.detectMultiScale(original_img, scale_factor, min_neighbors)\n",
    "\n",
    "    for (x,y,w,h) in faces:\n",
    "        cv2.rectangle(img,(x,y),(x+w,y+h),(255,215,0),5)\n",
    "        roi_color = img[y:y+h, x:x+w]\n",
    "\n",
    "    return img\n",
    "    \n",
    "    \n",
    "def find_eyes(original_img, img, scale_factor, min_neighbors):\n",
    "    eyes_cascade = cv2.CascadeClassifier('cascades/haarcascade_eye.xml')\n",
    "    eyes = eyes_cascade.detectMultiScale(original_img, scale_factor, min_neighbors)\n",
    "\n",
    "    for (x,y,w,h) in eyes:\n",
    "        cv2.rectangle(img,(x,y),(x+w,y+h),(255,0,0),5)\n",
    "        roi_color = img[y:y+h, x:x+w]\n",
    "        \n",
    "    return img\n",
    "    \n",
    "def read_img(path):\n",
    "    img = cv2.imread(path)\n",
    "    return cv2.cvtColor(img, cv2.COLOR_RGB2BGR)\n",
    "\n",
    "def show_img(img):\n",
    "    plt.figure(figsize=(20,10))\n",
    "    plt.imshow(img)\n",
    "\n",
    "def process_img(face_scale_factor, face_neighbors):\n",
    "    img = read_img('images/girls.jpg')\n",
    "    original_img = read_img('images/girls.jpg')\n",
    "#     img = find_eyes(original_img, img, x, 3)\n",
    "    img = find_face(original_img, img, face_scale_factor, face_neighbors)\n",
    "    show_img(img)\n",
    "\n",
    "        \n",
    "def sliders():\n",
    "    interact(process_img, \n",
    "             face_scale_factor=widgets.FloatSlider(\n",
    "                    value=1.2,\n",
    "                    min=1.01,\n",
    "                    max=1.5,\n",
    "                    step=0.01,\n",
    "                    description='Face Scale Factor:',\n",
    "                    disabled=False,\n",
    "                    continuous_update=False,\n",
    "                    orientation='horizontal',\n",
    "                    readout=True,\n",
    "                    readout_format='.2f',\n",
    "                    ),\n",
    "             face_neighbors=widgets.IntSlider(\n",
    "                    value=2,\n",
    "                    min=2,\n",
    "                    max=9,\n",
    "                    step=1,\n",
    "                    description='Face Min Neighbors:',\n",
    "                    disabled=False,\n",
    "                    continuous_update=False,\n",
    "                    orientation='horizontal',\n",
    "                    readout=True,\n",
    "                    readout_format='d',\n",
    "                    )\n",
    "            );\n",
    "    \n",
    "sliders()\n"
   ]
  },
  {
   "cell_type": "code",
   "execution_count": null,
   "metadata": {},
   "outputs": [],
   "source": []
  }
 ],
 "metadata": {
  "kernelspec": {
   "display_name": "Python 2",
   "language": "python",
   "name": "python2"
  },
  "language_info": {
   "codemirror_mode": {
    "name": "ipython",
    "version": 2
   },
   "file_extension": ".py",
   "mimetype": "text/x-python",
   "name": "python",
   "nbconvert_exporter": "python",
   "pygments_lexer": "ipython2",
   "version": "2.7.12"
  }
 },
 "nbformat": 4,
 "nbformat_minor": 2
}
